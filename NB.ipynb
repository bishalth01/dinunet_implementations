{
 "cells": [
  {
   "cell_type": "code",
   "execution_count": 1,
   "metadata": {},
   "outputs": [],
   "source": [
    "import pandas as pd\n",
    "import numpy as np\n",
    "import os\n",
    "sep=os.sep\n",
    "import torch\n",
    "import torch.nn as nn\n",
    "import torch.nn.functional as F\n",
    "from torch import optim\n",
    "import json\n",
    "from core.models import MSANNet\n",
    "from core.measurements import Prf1a\n",
    "import random\n",
    "from torch.utils.data import Dataset\n",
    "from core.torchutils import NNDataLoader\n",
    "import core.data_parser as data_parser\n",
    "import matplotlib.pyplot as plt\n",
    "import pandas as pd\n",
    "from PIL import Image\n",
    "import copy\n",
    "from core.utils import create_k_fold_splits\n",
    "from sklearn import svm\n",
    "import seaborn as sns"
   ]
  },
  {
   "cell_type": "code",
   "execution_count": 2,
   "metadata": {},
   "outputs": [],
   "source": [
    "from sklearn.preprocessing import MinMaxScaler\n",
    "scaler = MinMaxScaler()"
   ]
  },
  {
   "cell_type": "code",
   "execution_count": 3,
   "metadata": {},
   "outputs": [
    {
     "name": "stdout",
     "output_type": "stream",
     "text": [
      "Valid: True\n",
      "Valid: True\n",
      "Valid: True\n",
      "Valid: True\n",
      "Valid: True\n",
      "Valid: True\n",
      "Valid: True\n",
      "Valid: True\n",
      "Valid: True\n",
      "Valid: True\n"
     ]
    }
   ],
   "source": [
    "df = [l.strip() for l in open('pooled/labels/pooled_labels.csv').readlines()]\n",
    "header, df = df[0], df[1:]\n",
    "create_k_fold_splits(df, k=10, save_to_dir='pooled/splits/', shuffle_files=True)"
   ]
  },
  {
   "cell_type": "code",
   "execution_count": null,
   "metadata": {},
   "outputs": [],
   "source": []
  },
  {
   "cell_type": "code",
   "execution_count": null,
   "metadata": {},
   "outputs": [],
   "source": []
  },
  {
   "cell_type": "code",
   "execution_count": 4,
   "metadata": {},
   "outputs": [],
   "source": [
    "class FreeSurferDataset(Dataset):\n",
    "    def __init__(self):\n",
    "        self.indices = []\n",
    "\n",
    "    def load_indices(self, split_list):\n",
    "        for line in split_list:\n",
    "            site, file, label, _, _ = line.split(',')\n",
    "            label = int(label)\n",
    "            dir = f'test/input/{site}/simulatorRun/subject_stats_S0{site[-1]}'\n",
    "            data, errors = data_parser.parse_subj_volume_files(dir, [file])\n",
    "            x = data.iloc[0].values\n",
    "            self.indices.append([x, label])\n",
    "\n",
    "    def __getitem__(self, ix):\n",
    "        x, y = self.indices[ix]\n",
    "        return {'inputs': torch.tensor(x), 'labels': torch.tensor(y)}\n",
    "\n",
    "    def __len__(self):\n",
    "        return len(self.indices)\n",
    "\n",
    "    def get_loader(self, shuffle=False, batch_size=None, num_workers=0, pin_memory=True, **kw):\n",
    "        return NNDataLoader.get_loader(dataset=self, shuffle=shuffle, batch_size=batch_size,\n",
    "                                       num_workers=num_workers, pin_memory=pin_memory, **kw)"
   ]
  },
  {
   "cell_type": "code",
   "execution_count": 5,
   "metadata": {},
   "outputs": [
    {
     "name": "stdout",
     "output_type": "stream",
     "text": [
      "0 202 26 26\n",
      "1 204 25 25\n",
      "2 204 25 25\n",
      "3 204 25 25\n",
      "4 202 26 26\n",
      "5 204 25 25\n",
      "6 202 26 26\n",
      "7 204 25 25\n",
      "8 203 26 25\n",
      "9 203 25 26\n"
     ]
    }
   ],
   "source": [
    "DATASETS = []\n",
    "splits_dir = 'pooled/splits/'\n",
    "for k, split_file in enumerate(os.listdir(splits_dir)):\n",
    "    split = json.loads(open('pooled/splits/' + os.sep + split_file).read())\n",
    "    train_dset = FreeSurferDataset()\n",
    "    train_dset.load_indices(split['train'])\n",
    "    \n",
    "    val_dset = FreeSurferDataset()\n",
    "    val_dset.load_indices(split['validation'])\n",
    "    \n",
    "    test_dset = FreeSurferDataset()\n",
    "    test_dset.load_indices(split['test'])\n",
    "    DATASETS.append([k, train_dset, val_dset, test_dset])\n",
    "    print(k, len(train_dset), len(val_dset), len(test_dset))"
   ]
  },
  {
   "cell_type": "code",
   "execution_count": 6,
   "metadata": {},
   "outputs": [],
   "source": [
    "def initialize_weights(*models):\n",
    "    for model in models:\n",
    "        for module in model.modules():\n",
    "            if isinstance(module, nn.Conv2d) or isinstance(module, nn.Linear):\n",
    "                nn.init.kaiming_normal_(module.weight)\n",
    "                if module.bias is not None:\n",
    "                    module.bias.data.zero_()\n",
    "            elif isinstance(module, nn.BatchNorm2d):\n",
    "                module.weight.data.fill_(1)\n",
    "                module.bias.data.zero_()"
   ]
  },
  {
   "cell_type": "code",
   "execution_count": 7,
   "metadata": {},
   "outputs": [],
   "source": [
    "def evaluation(model, eval_dataset):\n",
    "    model.eval()\n",
    "    \n",
    "    \"\"\"\n",
    "    Validation\n",
    "    \"\"\"\n",
    "    eval_loader = eval_dataset.get_loader( batch_size=8,num_workers=2, pin_memory=True)\n",
    "    vloss = 0\n",
    "    score = Prf1a()\n",
    "    with torch.no_grad():\n",
    "        for i, batch in enumerate(eval_loader):\n",
    "                inputs = batch['inputs'].to(device).float()\n",
    "                labels = batch['labels'].to(device).long()\n",
    "                \n",
    "                out = F.log_softmax(model(inputs), 1)\n",
    "                _, predicted = torch.max(out, 1)\n",
    "                vloss += F.nll_loss(out, labels).item() * inputs.shape[0]\n",
    "\n",
    "                score.add_tensor(predicted, labels)\n",
    "                \n",
    "    return vloss/len(eval_dataset), score"
   ]
  },
  {
   "cell_type": "code",
   "execution_count": 8,
   "metadata": {},
   "outputs": [
    {
     "name": "stdout",
     "output_type": "stream",
     "text": [
      "SEED:  244627\n",
      "0 [0.501, 1.001, 0.66878, 0.501]\n",
      "1 [0.521, 1.001, 0.68631, 0.521]\n",
      "2 [0.641, 1.001, 0.78254, 0.641]\n",
      "3 [0.361, 1.001, 0.53163, 0.361]\n",
      "4 [0.36942, 1.001, 0.54067, 0.53946]\n",
      "5 [0.481, 1.001, 0.65077, 0.481]\n",
      "6 [0.27023, 1.001, 0.42657, 0.27023]\n",
      "7 [0.521, 1.001, 0.68631, 0.521]\n",
      "8 [0.69665, 0.88989, 0.7825, 0.641]\n",
      "9 [0.42408, 1.001, 0.59676, 0.42408]\n"
     ]
    },
    {
     "data": {
      "text/plain": [
       "('Global', [0.47855, 0.98419, 0.64498, 0.48919])"
      ]
     },
     "execution_count": 8,
     "metadata": {},
     "output_type": "execute_result"
    }
   ],
   "source": [
    "EPOCHS = 11\n",
    "BATCH_SZ = 32\n",
    "LR = 0.001\n",
    "IN_SIZE = 66\n",
    "NUM_CLASSES = 2\n",
    "HIDDEN = [16, 8, 4, 2]\n",
    "LOGS= []\n",
    "seed = 244627#np.random.randint(1e3, 1e10)\n",
    "print('SEED: ', seed)\n",
    "final_score_nn = Prf1a()\n",
    "for k, train_dataset, val_dataset, test_dataset in DATASETS:\n",
    "    \n",
    "    train_loader = train_dataset.get_loader(shuffle=True, batch_size=BATCH_SZ,\n",
    "                                    num_workers=2, pin_memory=True, drop_last=True)\n",
    "    \n",
    "    test_loader = test_dataset.get_loader(shuffle=True, batch_size=BATCH_SZ,\n",
    "                                    num_workers=2, pin_memory=True)\n",
    "    \n",
    "    device = torch.device('cpu')\n",
    "    model = MSANNet(in_size=IN_SIZE, \n",
    "                    hidden_sizes=HIDDEN, \n",
    "                    out_size=NUM_CLASSES, dropout_in=[])\n",
    "    torch.manual_seed(seed)\n",
    "    initialize_weights(model)\n",
    "    optimizer = torch.optim.Adam(model.parameters(), lr=LR)\n",
    "      \n",
    "    best_score = 0\n",
    "    best_ep = 0\n",
    "    best_model = None\n",
    "    TRAIN_LOGS, VAL_LOGS = [], []\n",
    "    for epoch in range(EPOCHS):\n",
    "        model.train()\n",
    "        running_loss = 0\n",
    "        score = Prf1a()\n",
    "        for i, batch in enumerate(train_loader):\n",
    "            inputs = batch['inputs'].to(device).float()\n",
    "            labels = batch['labels'].to(device).long()\n",
    "\n",
    "            optimizer.zero_grad()\n",
    "            out = F.log_softmax(model(inputs), 1)\n",
    "            _, predicted = torch.max(out, 1)\n",
    "\n",
    "\n",
    "            score.add_tensor(predicted, labels)\n",
    "            \n",
    "            wt = torch.randint(1, 11, (2, 1)).float()\n",
    "            loss = F.nll_loss(out, labels, weight=None)\n",
    "            loss.backward()\n",
    "            running_loss += loss.item()*inputs.shape[0]\n",
    "\n",
    "            optimizer.step()\n",
    "\n",
    "        TRAIN_LOGS.append([running_loss/len(train_dataset), *score.prfa()])  \n",
    "        \n",
    "        vloss, vscore = evaluation(model, val_dataset)\n",
    "        VAL_LOGS.append([vloss, *vscore.prfa()])\n",
    "        \n",
    "        if vscore.f1 > best_score:\n",
    "            best_score = vscore.f1\n",
    "            best_model = copy.deepcopy(model)\n",
    "            best_ep = epoch\n",
    "            \n",
    "    test_loss, test_score = evaluation(best_model, test_dataset)\n",
    "    final_score_nn.accumulate(test_score)\n",
    "    LOGS.append([k, test_score, TRAIN_LOGS, VAL_LOGS])\n",
    "    print(k, test_score.prfa())\n",
    "'Global', final_score_nn.prfa()"
   ]
  },
  {
   "cell_type": "raw",
   "metadata": {},
   "source": [
    "SEED:  244627\n",
    "0 [0.501, 1.001, 0.66878, 0.501]\n",
    "1 [0.521, 1.001, 0.68631, 0.521]\n",
    "2 [0.641, 1.001, 0.78254, 0.641]\n",
    "3 [0.361, 1.001, 0.53163, 0.361]\n",
    "4 [0.36942, 1.001, 0.54067, 0.53946]\n",
    "5 [0.481, 1.001, 0.65077, 0.481]\n",
    "6 [0.27023, 1.001, 0.42657, 0.27023]\n",
    "7 [0.521, 1.001, 0.68631, 0.521]\n",
    "8 [0.69665, 0.88989, 0.7825, 0.641]\n",
    "9 [0.42408, 1.001, 0.59676, 0.42408]\n",
    "('Global', [0.47855, 0.98419, 0.64498, 0.48919])"
   ]
  },
  {
   "cell_type": "markdown",
   "metadata": {},
   "source": [
    "### SVM"
   ]
  },
  {
   "cell_type": "code",
   "execution_count": 9,
   "metadata": {},
   "outputs": [
    {
     "name": "stdout",
     "output_type": "stream",
     "text": [
      "fold 0: train 228, test 26 [0.501, 0.69331, 0.58267, 0.501]\n",
      "fold 1: train 229, test 25 [0.451, 0.69331, 0.5475, 0.401]\n",
      "fold 2: train 229, test 25 [0.701, 0.4385, 0.54051, 0.521]\n",
      "fold 3: train 229, test 25 [0.201, 0.11211, 0.14494, 0.521]\n",
      "fold 4: train 228, test 26 [0.30869, 0.57243, 0.40209, 0.53946]\n",
      "fold 5: train 229, test 25 [0.501, 0.58433, 0.54047, 0.521]\n",
      "fold 6: train 228, test 26 [0.38562, 0.71529, 0.50209, 0.61638]\n",
      "fold 7: train 229, test 25 [0.42957, 0.23177, 0.30209, 0.441]\n",
      "fold 8: train 229, test 25 [0.626, 0.27878000000000003, 0.38677, 0.361]\n",
      "fold 9: train 228, test 26 [0.42205, 0.72827, 0.5354, 0.46254]\n"
     ]
    }
   ],
   "source": [
    "svm_scores = []\n",
    "for k, train_dat, val_dat, test_dat in DATASETS:\n",
    "    X, Y = [], []\n",
    "    X+=[x for x, _ in train_dat.indices]\n",
    "    Y+=[y for _, y in train_dat.indices]\n",
    "    X+=[x for x, _ in val_dat.indices]\n",
    "    Y+=[y for _, y in val_dat.indices]\n",
    "    \n",
    "    test_X = [x for x, _ in test_dat.indices]\n",
    "    test_Y = [y for _, y in test_dat.indices]\n",
    "    \n",
    "    clf = svm.NuSVC(kernel='rbf')\n",
    "    clf.fit(np.array(X), np.array(Y))\n",
    "    predictions = clf.predict(np.array(test_X))\n",
    "    score = Prf1a()\n",
    "    score.add_array(np.array(predictions), np.array(test_Y))\n",
    "    svm_scores.append(score)\n",
    "    print(f'fold {k}: train {len(X)}, test {len(test_Y)}', score.prfa())"
   ]
  },
  {
   "cell_type": "code",
   "execution_count": 55,
   "metadata": {},
   "outputs": [],
   "source": []
  },
  {
   "cell_type": "code",
   "execution_count": 70,
   "metadata": {},
   "outputs": [],
   "source": [
    "# pth = 'test/input/'\n",
    "# sites = json.loads(open('test/inputspec_multi.json').read())\n",
    "# for site, spec in enumerate(inspec):\n",
    "#     base_dir = pth+os.sep+f'local{site}' + os.sep + 'simulatorRun'\n",
    "#     files = os.listdir(base_dir + os.sep + f'subject_stats_S0{site}')\n",
    "#     create_k_fold_splits(files, k=10, save_to_dir=base_dir+os.sep+f'split_S0{site}')\n",
    "# #     break"
   ]
  },
  {
   "cell_type": "code",
   "execution_count": 11,
   "metadata": {},
   "outputs": [],
   "source": [
    "import glob"
   ]
  },
  {
   "cell_type": "code",
   "execution_count": 315,
   "metadata": {},
   "outputs": [],
   "source": [
    "site_scores = []\n",
    "site_ = []\n",
    "pth = 'test/output/remote/simulatorRun/'\n",
    "for file in glob.glob(pth+'*/*_scores.txt'):\n",
    "    line = open(file).readline().split(':')[1].strip()[1:-1]\n",
    "    tp, tn, fp, fn = [int(l) for l in line.split(',')]\n",
    "    score = Prf1a()\n",
    "    score.add(tp=tp, tn=tn, fp=fp, fn=fn)\n",
    "    site_scores.append(score)\n",
    "    site_.append((tp, tn, fp, fn))"
   ]
  },
  {
   "cell_type": "code",
   "execution_count": 252,
   "metadata": {},
   "outputs": [],
   "source": [
    "SCORE = [['Experiment','Score','Value']]\n",
    "final_dist, final_pooled, final_svm = Prf1a(), Prf1a(), Prf1a()\n",
    "for a, b, c in zip(site_scores, LOGS, svm_scores):\n",
    "    b = b[1]\n",
    "    final_dist.accumulate(a)\n",
    "    final_pooled.accumulate(b)\n",
    "    final_svm.accumulate(c)\n",
    "    \n",
    "    SCORE.append(['Distributed NN', 'Precision', a.precision])\n",
    "    SCORE.append(['Distributed NN', 'Recall', a.recall])\n",
    "    SCORE.append(['Distributed NN', 'F1', a.f1])\n",
    "    \n",
    "    SCORE.append(['Pooled NN', 'Precision', b.precision])\n",
    "    SCORE.append(['Pooled NN', 'Recall', b.recall])\n",
    "    SCORE.append(['Pooled NN', 'F1', b.f1])\n",
    "    \n",
    "    SCORE.append(['Pooled SVM', 'Precision', c.precision])\n",
    "    SCORE.append(['Pooled SVM', 'Recall', c.recall])\n",
    "    SCORE.append(['Pooled SVM', 'F1', c.f1])"
   ]
  },
  {
   "cell_type": "code",
   "execution_count": 253,
   "metadata": {},
   "outputs": [],
   "source": [
    "df = pd.DataFrame(SCORE[1:], columns=SCORE[0])"
   ]
  },
  {
   "cell_type": "code",
   "execution_count": 254,
   "metadata": {},
   "outputs": [
    {
     "data": {
      "text/html": [
       "<div>\n",
       "<style scoped>\n",
       "    .dataframe tbody tr th:only-of-type {\n",
       "        vertical-align: middle;\n",
       "    }\n",
       "\n",
       "    .dataframe tbody tr th {\n",
       "        vertical-align: top;\n",
       "    }\n",
       "\n",
       "    .dataframe thead th {\n",
       "        text-align: right;\n",
       "    }\n",
       "</style>\n",
       "<table border=\"1\" class=\"dataframe\">\n",
       "  <thead>\n",
       "    <tr style=\"text-align: right;\">\n",
       "      <th></th>\n",
       "      <th>Experiment</th>\n",
       "      <th>Score</th>\n",
       "      <th>Value</th>\n",
       "    </tr>\n",
       "  </thead>\n",
       "  <tbody>\n",
       "    <tr>\n",
       "      <th>0</th>\n",
       "      <td>Distributed NN</td>\n",
       "      <td>Precision</td>\n",
       "      <td>0.39230</td>\n",
       "    </tr>\n",
       "    <tr>\n",
       "      <th>1</th>\n",
       "      <td>Distributed NN</td>\n",
       "      <td>Recall</td>\n",
       "      <td>0.90100</td>\n",
       "    </tr>\n",
       "    <tr>\n",
       "      <th>2</th>\n",
       "      <td>Distributed NN</td>\n",
       "      <td>F1</td>\n",
       "      <td>0.54761</td>\n",
       "    </tr>\n",
       "  </tbody>\n",
       "</table>\n",
       "</div>"
      ],
      "text/plain": [
       "       Experiment      Score    Value\n",
       "0  Distributed NN  Precision  0.39230\n",
       "1  Distributed NN     Recall  0.90100\n",
       "2  Distributed NN         F1  0.54761"
      ]
     },
     "execution_count": 254,
     "metadata": {},
     "output_type": "execute_result"
    }
   ],
   "source": [
    "df.head(3)"
   ]
  },
  {
   "cell_type": "code",
   "execution_count": 309,
   "metadata": {},
   "outputs": [],
   "source": [
    "plt.rcParams['figure.figsize'] = 16, 10\n",
    "sns.set_context(\"talk\")"
   ]
  },
  {
   "cell_type": "code",
   "execution_count": 313,
   "metadata": {},
   "outputs": [
    {
     "data": {
      "image/png": "[encoded data removed]",
      "text/plain": [
       "<PIL.PngImagePlugin.PngImageFile image mode=RGBA size=1152x720 at 0x7F23634B9B20>"
      ]
     },
     "execution_count": 313,
     "metadata": {},
     "output_type": "execute_result"
    }
   ],
   "source": [
    "plt.title('10-Fold CV')\n",
    "ax = sns.boxplot(x='Experiment', y='Value', hue='Score', data=df, linewidth=3, dodge=True, width=0.4)\n",
    "# sns.swarmplot(x='Experiment', y='Value', hue='Score', data=df, dodge=True);\n",
    "plt.savefig('box.png')\n",
    "plt.close('all')\n",
    "Image.open('box.png')"
   ]
  },
  {
   "cell_type": "code",
   "execution_count": 167,
   "metadata": {},
   "outputs": [
    {
     "name": "stdout",
     "output_type": "stream",
     "text": [
      "Distributed Global PRF1A:  [0.5109, 0.86655, 0.64381, 0.54824]\n",
      "     Pooled Global PRF1A:  [0.47855, 0.98419, 0.64498, 0.48919]\n",
      "        SVM Global PRF1A:  [0.45769, 0.48839, 0.47354, 0.48919]\n"
     ]
    }
   ],
   "source": [
    "print('Distributed Global PRF1A: ', final_dist.prfa())\n",
    "print('     Pooled Global PRF1A: ', final_pooled.prfa())\n",
    "print('        SVM Global PRF1A: ', final_svm.prfa())"
   ]
  },
  {
   "cell_type": "code",
   "execution_count": 317,
   "metadata": {},
   "outputs": [
    {
     "data": {
      "text/html": [
       "<div>\n",
       "<style scoped>\n",
       "    .dataframe tbody tr th:only-of-type {\n",
       "        vertical-align: middle;\n",
       "    }\n",
       "\n",
       "    .dataframe tbody tr th {\n",
       "        vertical-align: top;\n",
       "    }\n",
       "\n",
       "    .dataframe thead th {\n",
       "        text-align: right;\n",
       "    }\n",
       "</style>\n",
       "<table border=\"1\" class=\"dataframe\">\n",
       "  <thead>\n",
       "    <tr style=\"text-align: right;\">\n",
       "      <th></th>\n",
       "      <th>TP</th>\n",
       "      <th>TN</th>\n",
       "      <th>FP</th>\n",
       "      <th>FN</th>\n",
       "    </tr>\n",
       "  </thead>\n",
       "  <tbody>\n",
       "    <tr>\n",
       "      <th>0</th>\n",
       "      <td>9</td>\n",
       "      <td>1</td>\n",
       "      <td>14</td>\n",
       "      <td>1</td>\n",
       "    </tr>\n",
       "    <tr>\n",
       "      <th>1</th>\n",
       "      <td>7</td>\n",
       "      <td>5</td>\n",
       "      <td>11</td>\n",
       "      <td>2</td>\n",
       "    </tr>\n",
       "    <tr>\n",
       "      <th>2</th>\n",
       "      <td>5</td>\n",
       "      <td>0</td>\n",
       "      <td>17</td>\n",
       "      <td>1</td>\n",
       "    </tr>\n",
       "    <tr>\n",
       "      <th>3</th>\n",
       "      <td>13</td>\n",
       "      <td>0</td>\n",
       "      <td>14</td>\n",
       "      <td>0</td>\n",
       "    </tr>\n",
       "    <tr>\n",
       "      <th>4</th>\n",
       "      <td>15</td>\n",
       "      <td>0</td>\n",
       "      <td>11</td>\n",
       "      <td>0</td>\n",
       "    </tr>\n",
       "    <tr>\n",
       "      <th>5</th>\n",
       "      <td>3</td>\n",
       "      <td>15</td>\n",
       "      <td>3</td>\n",
       "      <td>4</td>\n",
       "    </tr>\n",
       "    <tr>\n",
       "      <th>6</th>\n",
       "      <td>19</td>\n",
       "      <td>0</td>\n",
       "      <td>7</td>\n",
       "      <td>0</td>\n",
       "    </tr>\n",
       "    <tr>\n",
       "      <th>7</th>\n",
       "      <td>13</td>\n",
       "      <td>1</td>\n",
       "      <td>12</td>\n",
       "      <td>1</td>\n",
       "    </tr>\n",
       "    <tr>\n",
       "      <th>8</th>\n",
       "      <td>9</td>\n",
       "      <td>10</td>\n",
       "      <td>4</td>\n",
       "      <td>2</td>\n",
       "    </tr>\n",
       "    <tr>\n",
       "      <th>9</th>\n",
       "      <td>10</td>\n",
       "      <td>4</td>\n",
       "      <td>6</td>\n",
       "      <td>5</td>\n",
       "    </tr>\n",
       "  </tbody>\n",
       "</table>\n",
       "</div>"
      ],
      "text/plain": [
       "   TP  TN  FP  FN\n",
       "0   9   1  14   1\n",
       "1   7   5  11   2\n",
       "2   5   0  17   1\n",
       "3  13   0  14   0\n",
       "4  15   0  11   0\n",
       "5   3  15   3   4\n",
       "6  19   0   7   0\n",
       "7  13   1  12   1\n",
       "8   9  10   4   2\n",
       "9  10   4   6   5"
      ]
     },
     "execution_count": 317,
     "metadata": {},
     "output_type": "execute_result"
    }
   ],
   "source": [
    "pd.DataFrame(site_, columns=['TP','TN', 'FP', 'FN'])"
   ]
  }
 ],
 "metadata": {
  "kernelspec": {
   "display_name": "Python 3",
   "language": "python",
   "name": "python3"
  },
  "language_info": {
   "codemirror_mode": {
    "name": "ipython",
    "version": 3
   },
   "file_extension": ".py",
   "mimetype": "text/x-python",
   "name": "python",
   "nbconvert_exporter": "python",
   "pygments_lexer": "ipython3",
   "version": "3.8.2"
  }
 },
 "nbformat": 4,
 "nbformat_minor": 4
}